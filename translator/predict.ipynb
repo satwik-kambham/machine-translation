{
 "cells": [
  {
   "cell_type": "code",
   "execution_count": null,
   "metadata": {},
   "outputs": [],
   "source": [
    "import torch\n",
    "import lightning as L\n",
    "from tokenizers import Tokenizer\n",
    "\n",
    "from model.transformer import TransformerSeq2Seq\n",
    "\n",
    "L.seed_everything(42)"
   ]
  },
  {
   "cell_type": "code",
   "execution_count": null,
   "metadata": {},
   "outputs": [],
   "source": [
    "src_tokenizer_ckpt_path = \"./data/tokenizer-en.json\"\n",
    "tgt_tokenizer_ckpt_path = \"./data/tokenizer-hi.json\"\n",
    "model_ckpt_path = \"\""
   ]
  },
  {
   "cell_type": "code",
   "execution_count": null,
   "metadata": {},
   "outputs": [],
   "source": [
    "src_tokenizer = Tokenizer.from_file(src_tokenizer_ckpt_path)\n",
    "tgt_tokenizer = Tokenizer.from_file(tgt_tokenizer_ckpt_path)\n",
    "\n",
    "src_tokenizer.model.dropout = 0\n",
    "tgt_tokenizer.model.dropout = 0\n",
    "\n",
    "model = TransformerSeq2Seq.load_from_checkpoint(\n",
    "    model_ckpt_path,\n",
    "    map_location=\"cpu\",\n",
    ")\n",
    "model = model.eval()"
   ]
  },
  {
   "cell_type": "code",
   "execution_count": null,
   "metadata": {},
   "outputs": [],
   "source": [
    "src = \"Hi how are you?\"\n",
    "tokenized_text = src_tokenizer.encode(src)\n",
    "src = torch.LongTensor(tokenized_text.ids).view(-1, 1)\n",
    "tgt = model.greedy_decode(src, max_len=100)\n",
    "tgt = tgt.squeeze(1).tolist()\n",
    "tgt_text = tgt_tokenizer.decode(tgt)\n",
    "tgt_text"
   ]
  }
 ],
 "metadata": {
  "kernelspec": {
   "display_name": "insight",
   "language": "python",
   "name": "python3"
  },
  "language_info": {
   "codemirror_mode": {
    "name": "ipython",
    "version": 3
   },
   "file_extension": ".py",
   "mimetype": "text/x-python",
   "name": "python",
   "nbconvert_exporter": "python",
   "pygments_lexer": "ipython3",
   "version": "3.10.12"
  }
 },
 "nbformat": 4,
 "nbformat_minor": 2
}
